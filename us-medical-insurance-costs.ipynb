{
 "cells": [
  {
   "cell_type": "markdown",
   "metadata": {},
   "source": [
    "# U.S. Medical Insurance Costs"
   ]
  },
  {
   "cell_type": "code",
   "execution_count": 2,
   "metadata": {},
   "outputs": [],
   "source": [
    "import csv\n",
    "import matplotlib.pyplot as plt\n",
    "\n",
    "#Making a dictionary where keys are regions and values are data from each person from that region\n",
    "user_data = {}\n",
    "with open('insurance.csv') as insurance_csv:\n",
    "    reader = csv.DictReader(insurance_csv)\n",
    "    for row in reader:\n",
    "        if row['region'] not in user_data.keys():\n",
    "            user_data[row['region']] = [row]\n",
    "        else:\n",
    "            user_data[row['region']].append(row)              "
   ]
  },
  {
   "cell_type": "code",
   "execution_count": 3,
   "metadata": {},
   "outputs": [
    {
     "name": "stdout",
     "output_type": "stream",
     "text": [
      "The average charge for Northwest region is 12417.575373969228$\n",
      "The average charge for Northeast region is 13406.3845163858$\n",
      "The average charge for Southwest region is 12346.93737729231$\n",
      "The average charge for Southeast region is 14735.411437609895$\n"
     ]
    }
   ],
   "source": [
    "#Making a function that calculates average charge for each region\n",
    "def average_charge(data, region):\n",
    "    charges = []\n",
    "    average = 0\n",
    "    for i in data[region]:\n",
    "       charges.append(i['charges'])\n",
    "    for charge in charges:\n",
    "        average += float(charge)\n",
    "    return 'The average charge for {} region is {}$'.format(region.title(), average/len(charges))   \n",
    "\n",
    "nwest_charge = average_charge(user_data, 'northwest')\n",
    "neast_charge = average_charge(user_data, 'northeast')              \n",
    "swest_charge = average_charge(user_data, 'southwest')\n",
    "seast_charge = average_charge(user_data, 'southeast')\n",
    "\n",
    "print(nwest_charge)\n",
    "print(neast_charge)\n",
    "print(swest_charge)\n",
    "print(seast_charge)"
   ]
  },
  {
   "cell_type": "code",
   "execution_count": null,
   "metadata": {},
   "outputs": [],
   "source": [
    "#Southeast region has the highest average charge."
   ]
  },
  {
   "cell_type": "code",
   "execution_count": 4,
   "metadata": {},
   "outputs": [
    {
     "name": "stdout",
     "output_type": "stream",
     "text": [
      "The average age in Northwest region is approximately 39 years old\n",
      "The average age in Northeast region is approximately 39 years old\n",
      "The average age in Southwest region is approximately 39 years old\n",
      "The average age in Southeast region is approximately 39 years old\n"
     ]
    }
   ],
   "source": [
    "#Making a function that calculates average age for each region\n",
    "def average_age(data, region):\n",
    "    ages = []\n",
    "    average = 0\n",
    "    for i in data[region]:\n",
    "        ages.append(i['age'])\n",
    "    for age in ages:\n",
    "        average += int(age)\n",
    "    return 'The average age in {} region is approximately {} years old'.format(region.title(), round(average/len(ages)))\n",
    "\n",
    "nwest_age = average_age(user_data, 'northwest')\n",
    "neast_age = average_age(user_data, 'northeast')              \n",
    "swest_age = average_age(user_data, 'southwest')\n",
    "seast_age = average_age(user_data, 'southeast')\n",
    "\n",
    "print(nwest_age)\n",
    "print(neast_age)\n",
    "print(swest_age)\n",
    "print(seast_age)"
   ]
  },
  {
   "cell_type": "code",
   "execution_count": null,
   "metadata": {},
   "outputs": [],
   "source": [
    "#All regions have approximately the same average age."
   ]
  },
  {
   "cell_type": "code",
   "execution_count": 5,
   "metadata": {},
   "outputs": [
    {
     "name": "stdout",
     "output_type": "stream",
     "text": [
      "There are 161 males and 164 females in Northwest region\n",
      "There are 163 males and 161 females in Northeast region\n",
      "There are 163 males and 162 females in Southwest region\n",
      "There are 189 males and 175 females in Southeast region\n"
     ]
    }
   ],
   "source": [
    "#Making a function that returns number of men and women for each region\n",
    "def sex(data, region):\n",
    "    male = []\n",
    "    female = []\n",
    "    for i in data[region]:\n",
    "        if i['sex'] == 'male':\n",
    "            male.append(i['sex'])\n",
    "        else:\n",
    "            female.append(i['sex'])\n",
    "    return 'There are {} males and {} females in {} region'.format(len(male), len(female), region.title())\n",
    "\n",
    "nwest_sex = sex(user_data, 'northwest')\n",
    "neast_sex = sex(user_data, 'northeast')\n",
    "swest_sex = sex(user_data, 'southwest')\n",
    "seast_sex = sex(user_data, 'southeast')\n",
    "\n",
    "print(nwest_sex)\n",
    "print(neast_sex)\n",
    "print(swest_sex)\n",
    "print(seast_sex)"
   ]
  },
  {
   "cell_type": "code",
   "execution_count": null,
   "metadata": {},
   "outputs": [],
   "source": [
    "#All regions have approximately the same number of males and females. Southeast region has slightly more samples. "
   ]
  },
  {
   "cell_type": "code",
   "execution_count": 6,
   "metadata": {},
   "outputs": [
    {
     "name": "stdout",
     "output_type": "stream",
     "text": [
      "The average BMI in Northwest region is approximately 29.2\n",
      "The average BMI in Northeast region is approximately 29.17\n",
      "The average BMI in Southwest region is approximately 30.6\n",
      "The average BMI in Southeast region is approximately 33.36\n"
     ]
    }
   ],
   "source": [
    "#Making a function that calculates average BMI for each region\n",
    "def average_bmi(data, region):\n",
    "    bmis = []\n",
    "    average = 0\n",
    "    for i in data[region]:\n",
    "        bmis.append(i['bmi'])\n",
    "    for bmi in bmis:\n",
    "        average += float(bmi)\n",
    "    return 'The average BMI in {} region is approximately {}'.format(region.title(), round(average/len(bmis), 2))\n",
    "\n",
    "nwest_bmi = average_bmi(user_data, 'northwest')\n",
    "neast_bmi = average_bmi(user_data, 'northeast')\n",
    "swest_bmi = average_bmi(user_data, 'southwest')\n",
    "seast_bmi = average_bmi(user_data, 'southeast')\n",
    "\n",
    "print(nwest_bmi)\n",
    "print(neast_bmi)\n",
    "print(swest_bmi)\n",
    "print(seast_bmi)"
   ]
  },
  {
   "cell_type": "code",
   "execution_count": null,
   "metadata": {},
   "outputs": [],
   "source": [
    "#Southeast region has the highest average BMI."
   ]
  },
  {
   "cell_type": "code",
   "execution_count": 7,
   "metadata": {},
   "outputs": [
    {
     "data": {
      "image/png": "[encoded data removed]",
      "text/plain": [
       "<Figure size 432x288 with 1 Axes>"
      ]
     },
     "metadata": {
      "needs_background": "light"
     },
     "output_type": "display_data"
    }
   ],
   "source": [
    "#Graph showing wealthness of each region\n",
    "region_labels = ['NW', 'NE', 'SW', 'SE']\n",
    "values1 = [-0.5, 3.5, 0, 40]\n",
    "values2 = [29.2, 29.17, 30.6, 33.36]\n",
    "cx = [-0.5, 4]\n",
    "cy = [25, 25]\n",
    "\n",
    "fig, ax = plt.subplots()\n",
    "\n",
    "plt.axis(values1)\n",
    "plt.axhline(y=18.5, color='black', linestyle='dotted')\n",
    "plt.axhline(y=25, color='black', linestyle='dotted')\n",
    "plt.fill_between(cx, cy, y2=18.5, color='pink')\n",
    "\n",
    "plt.scatter(region_labels, values2, color='black', linewidth=2)\n",
    "\n",
    "ax.set_ylabel('BMI')\n",
    "ax.set_title('Wealthness')\n",
    "ax.legend(['Healthy BMI'], bbox_to_anchor = (1.315, 0.1))\n",
    "\n",
    "plt.show()"
   ]
  },
  {
   "cell_type": "code",
   "execution_count": null,
   "metadata": {},
   "outputs": [],
   "source": [
    "#The graph shows that all regions exceed the Healthy BMI range -18.5 to 25 BMI- according to CDC (Centers for Disease Control and Prevention).\n",
    "#Southwest region and -specially- Southeast region are in the obesity range."
   ]
  },
  {
   "cell_type": "code",
   "execution_count": 8,
   "metadata": {},
   "outputs": [
    {
     "name": "stdout",
     "output_type": "stream",
     "text": [
      "The average children in Northwest region is 1 child\n",
      "The average children in Northeast region is 1 child\n",
      "The average children in Southwest region is 1 child\n",
      "The average children in Southeast region is 1 child\n"
     ]
    }
   ],
   "source": [
    "#Making a function that calculates average children for each region\n",
    "def average_children(data, region):\n",
    "    children = []\n",
    "    average = 0\n",
    "    for i in data[region]:\n",
    "        children.append(i['children'])\n",
    "    for child in children:\n",
    "        average += int(child)\n",
    "    if round(average/len(children)) == 1:\n",
    "        return 'The average children in {} region is {} child'.format(region.title(), round(average/len(children)))\n",
    "    else: \n",
    "        return 'The average children in {} region is {} children'.format(region.title(), round(average/len(children)))\n",
    "\n",
    "nwest_children = average_children(user_data, 'northwest')\n",
    "neast_children = average_children(user_data, 'northeast')\n",
    "swest_children = average_children(user_data, 'southwest')\n",
    "seast_children = average_children(user_data, 'southeast')\n",
    "\n",
    "print(nwest_children)\n",
    "print(neast_children)\n",
    "print(swest_children)\n",
    "print(seast_children)"
   ]
  },
  {
   "cell_type": "code",
   "execution_count": null,
   "metadata": {},
   "outputs": [],
   "source": [
    "#All regions have approximately 1 child per person"
   ]
  },
  {
   "cell_type": "code",
   "execution_count": 9,
   "metadata": {},
   "outputs": [
    {
     "name": "stdout",
     "output_type": "stream",
     "text": [
      "There are 58 smokers and 267 non smokers in Northwest region\n",
      "There are 67 smokers and 257 non smokers in Northeast region\n",
      "There are 58 smokers and 267 non smokers in Southwest region\n",
      "There are 91 smokers and 273 non smokers in Southeast region\n"
     ]
    }
   ],
   "source": [
    "#Making a function that returns number of men and women who smoke and don't smoke for each region\n",
    "def smoke(data, region):\n",
    "    smoker = []\n",
    "    no_smoker = []\n",
    "    for i in data[region]:\n",
    "        if i['smoker'] == 'yes':\n",
    "            smoker.append(i['smoker'])\n",
    "        else:\n",
    "            no_smoker.append(i['smoker'])\n",
    "    return 'There are {} smokers and {} non smokers in {} region'.format(len(smoker), len(no_smoker), region.title())\n",
    "\n",
    "nwest_smoke = smoke(user_data, 'northwest')\n",
    "neast_smoke = smoke(user_data, 'northeast')\n",
    "swest_smoke = smoke(user_data, 'southwest')\n",
    "seast_smoke = smoke(user_data, 'southeast')\n",
    "\n",
    "print(nwest_smoke)\n",
    "print(neast_smoke)\n",
    "print(swest_smoke)\n",
    "print(seast_smoke)"
   ]
  },
  {
   "cell_type": "code",
   "execution_count": null,
   "metadata": {},
   "outputs": [],
   "source": [
    "#Although there are more samples in Southeast region, there are considerably more smokers in this area."
   ]
  },
  {
   "cell_type": "code",
   "execution_count": 10,
   "metadata": {},
   "outputs": [
    {
     "name": "stdout",
     "output_type": "stream",
     "text": [
      "Northwest region: 29 male smokers, 132 male non smokers, 29 female smokers, 135 female non smokers\n",
      "Northeast region: 38 male smokers, 125 male non smokers, 29 female smokers, 132 female non smokers\n",
      "Southwest region: 37 male smokers, 126 male non smokers, 21 female smokers, 141 female non smokers\n",
      "Southeast region: 55 male smokers, 134 male non smokers, 36 female smokers, 139 female non smokers\n"
     ]
    }
   ],
   "source": [
    "#Making a function that outputs how many males and females smoke and how many don't in each region\n",
    "def compare_smoke(data, region):\n",
    "    m_smoke = []\n",
    "    m_no_smoke = []\n",
    "    f_smoke = []\n",
    "    f_no_smoke = []\n",
    "    for i in data[region]:\n",
    "        if i['sex'] == 'male' and i['smoker'] == 'yes':\n",
    "            m_smoke.append(i)\n",
    "        elif i['sex'] == 'male' and i['smoker'] == 'no':\n",
    "            m_no_smoke.append(i)\n",
    "        elif i['sex'] == 'female' and i['smoker'] == 'yes':\n",
    "            f_smoke.append(i)\n",
    "        elif i['sex'] == 'female' and i['smoker'] == 'no':\n",
    "            f_no_smoke.append(i)\n",
    "    return '{} region: {} male smokers, {} male non smokers, {} female smokers, {} female non smokers'.format(region.title(), len(m_smoke), len(m_no_smoke), len(f_smoke), len(f_no_smoke)) \n",
    "\n",
    "nwest_compare_smoke = compare_smoke(user_data, 'northwest')\n",
    "neast_compare_smoke = compare_smoke(user_data, 'northeast')\n",
    "swest_compare_smoke = compare_smoke(user_data, 'southwest')\n",
    "seast_compare_smoke = compare_smoke(user_data, 'southeast')\n",
    "\n",
    "print(nwest_compare_smoke)\n",
    "print(neast_compare_smoke)\n",
    "print(swest_compare_smoke)\n",
    "print(seast_compare_smoke)"
   ]
  },
  {
   "cell_type": "code",
   "execution_count": 11,
   "metadata": {},
   "outputs": [
    {
     "data": {
      "image/png": "[encoded data removed]",
      "text/plain": [
       "<Figure size 432x288 with 1 Axes>"
      ]
     },
     "metadata": {
      "needs_background": "light"
     },
     "output_type": "display_data"
    }
   ],
   "source": [
    "#Making categorical plots of smokers comparison\n",
    "labels = ['NW \\nMales', 'NW \\nFemales', 'NE \\nMales', 'NE \\nFemales', 'SW \\nMales', 'SW \\nFemales', 'SE \\nMales', 'SE \\nFemales']\n",
    "smoker = [29, 29, 38, 29, 37, 21, 55, 36]\n",
    "non_smoker = [132, 135, 125, 132, 126, 141, 134, 139]\n",
    "width = 0.8      \n",
    "\n",
    "fig, ax = plt.subplots()\n",
    "  \n",
    "ax.bar(labels[0], non_smoker[0], width, label='Non smoker', color='lightblue', edgecolor='black')\n",
    "ax.bar(labels[0], smoker[0], width, label='Smoker', color='blue', edgecolor='black')\n",
    "ax.bar(labels[1], non_smoker[1], width, label='Non smoker', color='pink', edgecolor='black')\n",
    "ax.bar(labels[1], smoker[1], width, label='Smoker', color='red', edgecolor='black')\n",
    "ax.bar(labels[2], non_smoker[2], width, label='Non smoker', color='lightblue', edgecolor='black')\n",
    "ax.bar(labels[2], smoker[2], width, label='Smoker', color='blue', edgecolor='black')\n",
    "ax.bar(labels[3], non_smoker[3], width, label='Non smoker', color='pink', edgecolor='black')\n",
    "ax.bar(labels[3], smoker[3], width, label='Smoker', color='red', edgecolor='black')\n",
    "ax.bar(labels[4], non_smoker[4], width, label='Non smoker', color='lightblue', edgecolor='black')\n",
    "ax.bar(labels[4], smoker[4], width, label='Smoker', color='blue', edgecolor='black')\n",
    "ax.bar(labels[5], non_smoker[5], width, label='Non smoker', color='pink', edgecolor='black')\n",
    "ax.bar(labels[5], smoker[5], width, label='Smoker', color='red', edgecolor='black')\n",
    "ax.bar(labels[6], non_smoker[6], width, label='Non smoker', color='lightblue', edgecolor='black')\n",
    "ax.bar(labels[6], smoker[6], width, label='Smoker', color='blue', edgecolor='black')\n",
    "ax.bar(labels[7], non_smoker[7], width, label='Non smoker', color='pink', edgecolor='black')\n",
    "ax.bar(labels[7], smoker[7], width, label='Smoker', color='red', edgecolor='black')\n",
    "\n",
    "ax.set_title('Smoker / Non Smoker comparison')\n",
    "ax.legend(['Non Smoker', 'Smoker', 'Non Smoker', 'Smoker'], bbox_to_anchor = (1, 0.315))\n",
    "\n",
    "plt.show()"
   ]
  },
  {
   "cell_type": "code",
   "execution_count": null,
   "metadata": {},
   "outputs": [],
   "source": [
    "#The graph shows that males smoke more than females in all regions, except Northwest region, which has the same number of smokers for males and females."
   ]
  },
  {
   "cell_type": "code",
   "execution_count": null,
   "metadata": {},
   "outputs": [],
   "source": [
    "#CONCLUSION\n",
    "#BMI and smoking are the most important factors to determine the wealthness of a person since age and number of children are approximately the same in all regions.\n",
    "#Southeast region not only has the highest amount of smokers, but the highest average BMI -that lies in the obesity range-.\n",
    "#Southeast region has the highest average insurance charge because is the less healthy region."
   ]
  }
 ],
 "metadata": {
  "kernelspec": {
   "display_name": "Python 3 (ipykernel)",
   "language": "python",
   "name": "python3"
  },
  "language_info": {
   "codemirror_mode": {
    "name": "ipython",
    "version": 3
   },
   "file_extension": ".py",
   "mimetype": "text/x-python",
   "name": "python",
   "nbconvert_exporter": "python",
   "pygments_lexer": "ipython3",
   "version": "3.9.7"
  }
 },
 "nbformat": 4,
 "nbformat_minor": 4
}
